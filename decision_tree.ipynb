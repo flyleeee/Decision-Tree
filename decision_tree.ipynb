{
 "metadata": {
  "language_info": {
   "codemirror_mode": {
    "name": "ipython",
    "version": 3
   },
   "file_extension": ".py",
   "mimetype": "text/x-python",
   "name": "python",
   "nbconvert_exporter": "python",
   "pygments_lexer": "ipython3",
   "version": "3.8.5"
  },
  "orig_nbformat": 4,
  "kernelspec": {
   "name": "python3",
   "display_name": "Python 3.8.5 64-bit ('base': conda)"
  },
  "interpreter": {
   "hash": "872c75cc0e1ad9d253a6dbe834c65b1c7e1b059129b226968054e26fffa31186"
  }
 },
 "nbformat": 4,
 "nbformat_minor": 2,
 "cells": [
  {
   "cell_type": "code",
   "execution_count": 1,
   "metadata": {},
   "outputs": [],
   "source": [
    "import numpy as np\n",
    "import matplotlib.pyplot as plt\n",
    "import os\n",
    "from math import log"
   ]
  },
  {
   "cell_type": "code",
   "execution_count": 2,
   "metadata": {},
   "outputs": [],
   "source": [
    "class SONAR(object):\n",
    "    '''\n",
    "    sonar数据集\n",
    "    '''\n",
    "    def __init__(self,root,path):\n",
    "        '''\n",
    "        方法说明:\n",
    "            初始化类\n",
    "        参数说明:\n",
    "            root: 文件夹根目录\n",
    "            path: sonar数据集文件名 'sonar.csv'\n",
    "        '''\n",
    "        self.root = root\n",
    "        self.path = path\n",
    "        self.data = self._get_data()\n",
    "        self.label = self._get_label()\n",
    "\n",
    "    def _get_data(self):\n",
    "        #打开数据集\n",
    "        with open(os.path.join(self.root,self.path),'r') as f:\n",
    "            data = f.readlines()\n",
    "        #去除掉sonar逗号\n",
    "        for i in range(len(data)):\n",
    "            data[i] = data[i].strip().split(',')[:-1]\n",
    "        #转化为numpy数组格式\n",
    "        data = np.array(data, dtype = float)\n",
    "        \n",
    "        return data\n",
    "\n",
    "    def _get_label(self):\n",
    "        #打开数据集\n",
    "        with open(os.path.join(self.root,self.path),'r') as f:\n",
    "            data = f.readlines()\n",
    "        #'R'为0, 'M'为1\n",
    "        label = [0] * len(data)\n",
    "        for i in range(len(data)):\n",
    "            if data[i][-2] == 'R':\n",
    "                label[i] = 0\n",
    "            else:\n",
    "                label[i] = 1\n",
    "        #转化为numpy数组格式\n",
    "        label = np.array(label, dtype = int)\n",
    "        \n",
    "        return label"
   ]
  },
  {
   "cell_type": "code",
   "execution_count": 3,
   "metadata": {},
   "outputs": [],
   "source": [
    "def ent(D):\n",
    "    # 计算数据集D的信息熵\n",
    "    n = D.shape[0]\n",
    "    n0 = (D[:, -1] == 0).sum()\n",
    "    p0 = n0 / n\n",
    "    p1 = 1 - p0\n",
    "    if p0 == 0 or p1 == 0:\n",
    "        return 1\n",
    "    else:\n",
    "        return -(p0 * log(p0, 2) + p1 * log(p1, 2))"
   ]
  },
  {
   "cell_type": "code",
   "execution_count": 4,
   "metadata": {},
   "outputs": [],
   "source": [
    "def T(D, a):\n",
    "    '''\n",
    "        D: 数据集\n",
    "        a: a属性列的序数\n",
    "        return: 对连续属性a的候选划分点集合t\n",
    "    '''\n",
    "    a_col = np.unique(D[:, a])\n",
    "    n = a_col.shape[0]\n",
    "    t = np.empty(n - 1)\n",
    "    for i in range(1, n):\n",
    "        t[i - 1] = (a_col[i - 1] + a_col[i]) / 2\n",
    "    return t"
   ]
  },
  {
   "cell_type": "code",
   "execution_count": 5,
   "metadata": {},
   "outputs": [],
   "source": [
    "def devide(D, A, T):\n",
    "    '''\n",
    "        D: 数据集\n",
    "        A: 属性集\n",
    "        T: 对于所有属性的各自的划分点集合\n",
    "        return: 对属性集A的划分结果A_T\n",
    "    '''\n",
    "    n = A.shape[0]\n",
    "    A_T = np.empty(D.shape)\n",
    "    for i in range(n):\n",
    "        A_T[D[:, A[i]] > T[i], A[i]] = 1\n",
    "        A_T[D[:, A[i]] <= T[i], A[i]] = 0\n",
    "    return A_T"
   ]
  },
  {
   "cell_type": "code",
   "execution_count": 6,
   "metadata": {},
   "outputs": [],
   "source": [
    "def gain_t(D, a, T):\n",
    "    '''\n",
    "        D：数据集\n",
    "        a：a属性列的序数\n",
    "        T: 划分点集合\n",
    "        return: 划分点集合T中最大的增益, 使增益最大的划分点t\n",
    "    '''\n",
    "    global choosen_t # 若不将其声明为全局变量，在预剪枝算法中会报错，原因未知\n",
    "    n = T.shape[0]\n",
    "    maxx = -999\n",
    "\n",
    "    for i in range(n):\n",
    "        t = T[i]\n",
    "        posi =  D[D[:, a] > t, :]\n",
    "        nega = D[D[:, a] <= t, :]\n",
    "        gain = ent(D) - posi.shape[0] * ent(posi) / D.shape[0] - nega.shape[0] * ent(nega) / D.shape[0]\n",
    "        if gain > maxx:\n",
    "            maxx = gain\n",
    "            choosen_t = t\n",
    "    return maxx, choosen_t"
   ]
  },
  {
   "cell_type": "code",
   "execution_count": 7,
   "metadata": {},
   "outputs": [],
   "source": [
    "class Tree_Node(object):\n",
    "    def __init__(self, D):\n",
    "        self.label = None\n",
    "        self.a = None\n",
    "        self.t = None\n",
    "        self.D = D\n",
    "        self.children = [0] * 2\n",
    "        self.is_leaf = True"
   ]
  },
  {
   "cell_type": "code",
   "execution_count": 8,
   "metadata": {},
   "outputs": [],
   "source": [
    "class Decision_Tree(object):\n",
    "    '''\n",
    "    决策树模型(ID3)\n",
    "    '''\n",
    "    def __init__(self):\n",
    "        '''\n",
    "        方法说明:\n",
    "            初始化类\n",
    "        '''\n",
    "        self.root = None #决策树根\n",
    "        self.T = None # 保存对于所有属性的各自的划分点集合\n",
    "\n",
    "    def generate(self, D, A):\n",
    "        '''\n",
    "            进行决策树结点的生成\n",
    "            D:训练集\n",
    "            A:属性集\n",
    "        '''\n",
    "        node = Tree_Node(D)\n",
    "        n = D.shape[0]\n",
    "        n0 = (D[:, -1] == 0).sum()\n",
    "        n1 = (D[:, -1] == 1).sum()\n",
    "        # 若D中样本全属于同一类别，则将当前结点设为叶子结点：\n",
    "        if n == n0:\n",
    "            node.label = 0\n",
    "            return node\n",
    "        if n == n1:\n",
    "            node.label = 1\n",
    "            return node    \n",
    "        # 若D中样本属性值全部相同并且都已做出划分，则将当前结点设为叶子结点：           \n",
    "        if np.unique(devide(D, A, self.T), axis = 0).shape[0] == 1 and (self.T == 0).sum() == 0:\n",
    "            if n1 >= n0:\n",
    "                node.label = 1\n",
    "            else:\n",
    "                node.label = 0\n",
    "            return node\n",
    "        # 不满足以上两种情况，当前结点产生子树：\n",
    "        # 选出使信息增益最大的属性及其划分值\n",
    "        max = -1\n",
    "        for i in range(A.shape[0]):\n",
    "            a = A[i]\n",
    "            gain, t = gain_t(D, a, T(D, a))\n",
    "            if gain > max:\n",
    "                max = gain\n",
    "                best_a = a\n",
    "                best_t = t       \n",
    "        # 给当前节点赋值\n",
    "        node.a = best_a\n",
    "        node.t = best_t\n",
    "        node.is_leaf = False\n",
    "        self.T[node.a] = node.t\n",
    "        D0 = D[D[:, node.a] <= node.t, :]\n",
    "        D1 = D[D[:, node.a] >= node.t, :]\n",
    "        # 给子树赋值\n",
    "        child0 = Tree_Node(D0)\n",
    "        child1 = Tree_Node(D1)\n",
    "        # 若子树样本全部属于同一类别，则将子树设为叶子结点，否则在子树上继续执行生成算法：\n",
    "        if D0.shape[0] == 0:\n",
    "            n = D0.shape[0]\n",
    "            n0 = (D0[:, -1] == 0).sum()\n",
    "            n1 = (D0[:, -1] == 1).sum()\n",
    "            if n1 >= n0:\n",
    "                child0.label = 1\n",
    "            else:\n",
    "                child0.label = 0\n",
    "        \n",
    "            node.children[0] = child0\n",
    "\n",
    "        else:\n",
    "            node.children[0] = self.generate(D0, A)\n",
    "\n",
    "        if D1.shape[0] == 0:\n",
    "            n = D1.shape[0]\n",
    "            n0 = (D1[:, -1] == 0).sum()\n",
    "            n1 = (D1[:, -1] == 1).sum()\n",
    "            if n1 >= n0:\n",
    "                child1.label = 1\n",
    "            else:\n",
    "                child1.label = 0\n",
    "            \n",
    "            node.children[1] = child1\n",
    "\n",
    "        else:\n",
    "            node.children[1] = self.generate(D1, A)\n",
    "        \n",
    "        return node\n",
    "\n",
    "    def train(self, D, A):\n",
    "        '''\n",
    "            以D和A训练决策树\n",
    "            D:训练集\n",
    "            A:属性集\n",
    "        '''\n",
    "        self.T = np.zeros(A.shape[0]) #将属性的划分值集合初始化为0\n",
    "        self.root = self.generate(D, A) #从根结点开始生成决策树\n",
    "\n",
    "    def predict(self, D, A):\n",
    "        '''\n",
    "            通过D和A，在训练好的决策树上进行预测\n",
    "            D:训练集\n",
    "            A:属性集\n",
    "        '''\n",
    "        n = D.shape[0]\n",
    "        y = np.empty(n)\n",
    "        for i in range(n):\n",
    "            node = self.root\n",
    "            while node.is_leaf == False:\n",
    "                if(D[i, node.a] <= node.t):\n",
    "                    node = node.children[0]\n",
    "                else:\n",
    "                    node = node.children[1]\n",
    "            \n",
    "            y[i] = node.label\n",
    "\n",
    "        return y"
   ]
  },
  {
   "cell_type": "code",
   "execution_count": 9,
   "metadata": {},
   "outputs": [],
   "source": [
    "# 读取数据\n",
    "dataset = SONAR('', 'sonar.csv')\n",
    "X = dataset.data\n",
    "y = dataset.label"
   ]
  },
  {
   "cell_type": "code",
   "execution_count": 10,
   "metadata": {},
   "outputs": [],
   "source": [
    "# 合并为数据集\n",
    "D = np.hstack([X, y.reshape(-1, 1)])\n",
    "A = np.arange(1, D.shape[1] - 1)"
   ]
  },
  {
   "cell_type": "code",
   "execution_count": 11,
   "metadata": {},
   "outputs": [],
   "source": [
    "# 以7:3的比例划分训练集与测试集\n",
    "np.random.seed(0)   # seed = 0\n",
    "np.random.shuffle(D)\n",
    "d = int(D.shape[0] * 0.7) \n",
    "D_train = D[: d]\n",
    "D_test = D[d: ]"
   ]
  },
  {
   "cell_type": "code",
   "execution_count": 12,
   "metadata": {},
   "outputs": [],
   "source": [
    "dt = Decision_Tree()"
   ]
  },
  {
   "cell_type": "code",
   "execution_count": 13,
   "metadata": {},
   "outputs": [],
   "source": [
    "dt.train(D_train, A)"
   ]
  },
  {
   "cell_type": "code",
   "execution_count": 14,
   "metadata": {},
   "outputs": [],
   "source": [
    "y_predict = dt.predict(D_test, A)"
   ]
  },
  {
   "cell_type": "code",
   "execution_count": 15,
   "metadata": {},
   "outputs": [],
   "source": [
    "precision = np.sum(y_predict == D_test[:, -1]) / D_test.shape[0]"
   ]
  },
  {
   "cell_type": "code",
   "execution_count": 16,
   "metadata": {},
   "outputs": [
    {
     "output_type": "execute_result",
     "data": {
      "text/plain": [
       "0.6984126984126984"
      ]
     },
     "metadata": {},
     "execution_count": 16
    }
   ],
   "source": [
    "precision"
   ]
  },
  {
   "cell_type": "code",
   "execution_count": 17,
   "metadata": {},
   "outputs": [],
   "source": [
    "# 在训练集的基础上再以7:3的比例划分训练集中的训练集与测试集\n",
    "np.random.shuffle(D_train)\n",
    "d = int(D_train.shape[0] * 0.7) \n",
    "D_train_train = D_train[: d]\n",
    "D_train_test = D_train[d: ]"
   ]
  },
  {
   "cell_type": "code",
   "execution_count": 18,
   "metadata": {},
   "outputs": [],
   "source": [
    "class Decision_Tree_prepruning(object):\n",
    "    '''\n",
    "    预剪枝决策树模型(ID3)\n",
    "    '''\n",
    "    def __init__(self):\n",
    "        '''\n",
    "        方法说明:\n",
    "            初始化类\n",
    "        '''\n",
    "        self.root = None #决策树根\n",
    "        self.T = None # 保存对于所有属性的各自的划分点集合\n",
    "\n",
    "    def generate(self, D, A):\n",
    "        '''\n",
    "            进行决策树结点的生成\n",
    "            D:训练集\n",
    "            A:属性集\n",
    "        '''\n",
    "\n",
    "        node = Tree_Node(D)\n",
    "        n = D.shape[0]\n",
    "        n0 = (D[:, -1] == 0).sum()\n",
    "        n1 = (D[:, -1] == 1).sum()\n",
    "        # 若D中样本全属于同一类别，则将当前结点设为叶子结点：\n",
    "        if n == n0:\n",
    "            node.label = 0\n",
    "            return node\n",
    "        if n == n1:\n",
    "            node.label = 1\n",
    "            return node    \n",
    "        # 若D中样本属性值全部相同并且都已做出划分，则将当前结点设为叶子结点：           \n",
    "        if np.unique(devide(D, A, self.T), axis = 0).shape[0] == 1 and (self.T == 0).sum() == 0:\n",
    "            if n1 >= n0:\n",
    "                node.label = 1\n",
    "            else:\n",
    "                node.label = 0\n",
    "            return node\n",
    "        # 不满足以上两种情况，进行预剪枝，判断是否应该使得当前结点产生子树：\n",
    "        # 1:计算不产生子树情况下，测试集准确度：\n",
    "        n = D.shape[0]\n",
    "        n0 = (D[:, -1] == 0).sum()\n",
    "        n1 = (D[:, -1] == 1).sum()\n",
    "        if n1 >= n0:\n",
    "            node.label = 1\n",
    "        else:\n",
    "            node.label = 0\n",
    "        if self.root == None:\n",
    "            self.root = node\n",
    "        y_predict = dt.predict(D_train_test, A)\n",
    "        precision_nodevide = np.sum(y_predict == D_train_test[:, -1]) / D_train_test.shape[0]\n",
    "\n",
    "        # 选出使信息增益最大的属性及其划分值\n",
    "        m = -1\n",
    "        for i in range(A.shape[0]):\n",
    "            a = A[i]\n",
    "            gain, t = gain_t(D, a, T(D, a))\n",
    "            if gain > m:\n",
    "                m = gain\n",
    "                best_a = a\n",
    "                best_t = t       \n",
    "        # 给当前节点赋值\n",
    "        node.a = best_a\n",
    "        node.t = best_t\n",
    "        \n",
    "        self.T[node.a] = node.t\n",
    "        D0 = D[D[:, node.a] <= node.t, :]\n",
    "        D1 = D[D[:, node.a] >= node.t, :]\n",
    "        # 给子树赋值\n",
    "        child0 = Tree_Node(D0)\n",
    "        child1 = Tree_Node(D1)\n",
    "        # 若子树样本全部属于同一类别，则将子树设为叶子结点，否则在子树上继续执行生成算法：\n",
    "        if D0.shape[0] == 0:\n",
    "            n = D0.shape[0]\n",
    "            n0 = (D0[:, -1] == 0).sum()\n",
    "            n1 = (D0[:, -1] == 1).sum()\n",
    "            if n1 >= n0:\n",
    "                child0.label = 1\n",
    "            else:\n",
    "                child0.label = 0\n",
    "        \n",
    "            node.children[0] = child0\n",
    "\n",
    "        else:\n",
    "            node.children[0] = self.generate(D0, A)\n",
    "\n",
    "        if D1.shape[0] == 0:\n",
    "            n = D1.shape[0]\n",
    "            n0 = (D1[:, -1] == 0).sum()\n",
    "            n1 = (D1[:, -1] == 1).sum()\n",
    "            if n1 >= n0:\n",
    "                child1.label = 1\n",
    "            else:\n",
    "                child1.label = 0\n",
    "            \n",
    "            node.children[1] = child1\n",
    "\n",
    "        else:\n",
    "            node.children[1] = self.generate(D1, A)\n",
    "\n",
    "        if self.root == None:\n",
    "            self.root = node\n",
    "        node.is_leaf = False\n",
    "        y_predict = dt.predict(D_train_test, A)\n",
    "        precision_devide = np.sum(y_predict == D_train_test[:, -1]) / D_train_test.shape[0]\n",
    "\n",
    "        if(precision_nodevide > precision_devide):\n",
    "            node.is_leaf = True\n",
    "            n = D.shape[0]\n",
    "            n0 = (D[:, -1] == 0).sum()\n",
    "            n1 = (D[:, -1] == 1).sum()\n",
    "            if n1 >= n0:\n",
    "                node.label = 1\n",
    "            else:\n",
    "                node.label = 0\n",
    "            return node\n",
    "        else:\n",
    "            node.is_leaf = False\n",
    "        \n",
    "        return node\n",
    "\n",
    "    def train(self, D, A):\n",
    "        '''\n",
    "            以D和A训练决策树\n",
    "            D:训练集\n",
    "            A:属性集\n",
    "        '''\n",
    "        self.T = np.zeros(A.shape[0]) #将属性的划分值集合初始化为0\n",
    "        self.root = self.generate(D, A) #从根结点开始生成决策树\n",
    "\n",
    "    def predict(self, D, A):\n",
    "        '''\n",
    "            通过D和A，在训练好的决策树上进行预测\n",
    "            D:训练集\n",
    "            A:属性集\n",
    "        '''\n",
    "        n = D.shape[0]\n",
    "        y = np.empty(n)\n",
    "        for i in range(n):\n",
    "            node = self.root\n",
    "            while node.is_leaf == False:\n",
    "                if(D[i, node.a] <= node.t):\n",
    "                    node = node.children[0]\n",
    "                else:\n",
    "                    node = node.children[1]\n",
    "            \n",
    "            y[i] = node.label\n",
    "\n",
    "        return y"
   ]
  },
  {
   "cell_type": "code",
   "execution_count": 19,
   "metadata": {},
   "outputs": [],
   "source": [
    "dt_p = Decision_Tree_prepruning()"
   ]
  },
  {
   "cell_type": "code",
   "execution_count": 20,
   "metadata": {
    "tags": []
   },
   "outputs": [],
   "source": [
    "dt_p.train(D_train_train, A)"
   ]
  },
  {
   "cell_type": "code",
   "execution_count": 21,
   "metadata": {},
   "outputs": [],
   "source": [
    "y_predict = dt_p.predict(D_test, A)"
   ]
  },
  {
   "cell_type": "code",
   "execution_count": 22,
   "metadata": {},
   "outputs": [],
   "source": [
    "precision = np.sum(y_predict == D_test[:, -1]) / D_test.shape[0]"
   ]
  },
  {
   "cell_type": "code",
   "execution_count": 23,
   "metadata": {},
   "outputs": [
    {
     "output_type": "execute_result",
     "data": {
      "text/plain": [
       "0.7142857142857143"
      ]
     },
     "metadata": {},
     "execution_count": 23
    }
   ],
   "source": [
    "precision"
   ]
  },
  {
   "cell_type": "code",
   "execution_count": 24,
   "metadata": {},
   "outputs": [],
   "source": [
    "# 在训练集的基础上再以6:4的比例划分训练集中的训练集与测试集\n",
    "np.random.shuffle(D_train)\n",
    "d = int(D_train.shape[0] * 0.6) \n",
    "D_train_train = D_train[: d]\n",
    "D_train_test = D_train[d: ]"
   ]
  },
  {
   "cell_type": "code",
   "execution_count": 25,
   "metadata": {},
   "outputs": [
    {
     "output_type": "execute_result",
     "data": {
      "text/plain": [
       "0.6666666666666666"
      ]
     },
     "metadata": {},
     "execution_count": 25
    }
   ],
   "source": [
    "dt_p = Decision_Tree_prepruning()\n",
    "dt_p.train(D_train_train, A)\n",
    "y_predict = dt_p.predict(D_test, A)\n",
    "precision = np.sum(y_predict == D_test[:, -1]) / D_test.shape[0]\n",
    "precision"
   ]
  },
  {
   "cell_type": "code",
   "execution_count": 26,
   "metadata": {},
   "outputs": [],
   "source": [
    "# 在训练集的基础上再以8:2的比例划分训练集中的训练集与测试集\n",
    "np.random.shuffle(D_train)\n",
    "d = int(D_train.shape[0] * 0.8) \n",
    "D_train_train = D_train[: d]\n",
    "D_train_test = D_train[d: ]"
   ]
  },
  {
   "cell_type": "code",
   "execution_count": 27,
   "metadata": {},
   "outputs": [
    {
     "output_type": "execute_result",
     "data": {
      "text/plain": [
       "0.8412698412698413"
      ]
     },
     "metadata": {},
     "execution_count": 27
    }
   ],
   "source": [
    "dt_p = Decision_Tree_prepruning()\n",
    "dt_p.train(D_train_train, A)\n",
    "y_predict = dt_p.predict(D_test, A)\n",
    "precision = np.sum(y_predict == D_test[:, -1]) / D_test.shape[0]\n",
    "precision"
   ]
  },
  {
   "cell_type": "code",
   "execution_count": 28,
   "metadata": {},
   "outputs": [],
   "source": [
    "# 在训练集的基础上再以9:1的比例划分训练集中的训练集与测试集\n",
    "np.random.shuffle(D_train)\n",
    "d = int(D_train.shape[0] * 0.9) \n",
    "D_train_train = D_train[: d]\n",
    "D_train_test = D_train[d: ]"
   ]
  },
  {
   "cell_type": "code",
   "execution_count": 29,
   "metadata": {},
   "outputs": [
    {
     "output_type": "execute_result",
     "data": {
      "text/plain": [
       "0.6666666666666666"
      ]
     },
     "metadata": {},
     "execution_count": 29
    }
   ],
   "source": [
    "dt_p = Decision_Tree_prepruning()\n",
    "dt_p.train(D_train_train, A)\n",
    "y_predict = dt_p.predict(D_test, A)\n",
    "precision = np.sum(y_predict == D_test[:, -1]) / D_test.shape[0]\n",
    "precision"
   ]
  }
 ]
}